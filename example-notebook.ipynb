{
 "cells": [
  {
   "cell_type": "code",
   "execution_count": 1,
   "metadata": {},
   "outputs": [],
   "source": [
    "import os\n",
    "import shutil\n",
    "import platform\n",
    "import contextlib\n",
    "import sys\n",
    "\n",
    "import re\n",
    "from hashlib import sha256\n",
    "from io import StringIO\n",
    "from uuid import UUID, uuid5"
   ]
  },
  {
   "cell_type": "code",
   "execution_count": 2,
   "metadata": {},
   "outputs": [],
   "source": [
    "def delete_contents_of_folder(folder_path):\n",
    "    \"\"\"\n",
    "    Delete all contents of the specified folder.\n",
    "\n",
    "    Parameters:\n",
    "    folder_path (str): Path to the folder whose contents are to be deleted.\n",
    "    \"\"\"\n",
    "    if not os.path.exists(folder_path):\n",
    "        print(\"The folder does not exist.\")\n",
    "        return\n",
    "\n",
    "    for item_name in os.listdir(folder_path):\n",
    "        item_path = os.path.join(folder_path, item_name)\n",
    "        try:\n",
    "            if os.path.isfile(item_path) or os.path.islink(item_path):\n",
    "                os.unlink(item_path)  # Remove file or link\n",
    "            elif os.path.isdir(item_path):\n",
    "                shutil.rmtree(item_path)  # Remove directory and all its contents\n",
    "        except OSError as e:\n",
    "            print(f\"Failed to delete {item_path}. Reason: {e.strerror}\")\n",
    "\n",
    "def delete_folder(folder_path):\n",
    "    \"\"\"\n",
    "    Delete a folder and all its contents.\n",
    "\n",
    "    Parameters:\n",
    "    folder_path (str): Path to the folder to be deleted.\n",
    "    \"\"\"\n",
    "    if os.path.exists(folder_path):\n",
    "        shutil.rmtree(folder_path)\n",
    "        print(f\"Folder '{folder_path}' has been deleted.\")\n",
    "    else:\n",
    "        print(f\"Folder '{folder_path}' does not exist.\")\n",
    "\n",
    "def remove_file(file_name):\n",
    "    \"\"\"\n",
    "    Remove a file from the current working directory.\n",
    "\n",
    "    Args:\n",
    "        file_name (str): The name of the file to be removed.\n",
    "\n",
    "    Returns:\n",
    "        None\n",
    "    \"\"\"\n",
    "    file_path = os.path.join(os.getcwd(), file_name)\n",
    "    if os.path.exists(file_path):\n",
    "        os.remove(file_path)\n",
    "        print(f\"File '{file_name}' removed successfully.\")\n",
    "    else:\n",
    "        print(f\"File '{file_name}' does not exist.\")\n",
    "\n",
    "def get_machine_info():\n",
    "    \"\"\"\n",
    "    Get information about the machine.\n",
    "\n",
    "    Returns:\n",
    "    dict: A dictionary containing information about the machine.\n",
    "    \"\"\"\n",
    "    machine_info = {\n",
    "        'system': platform.system(),\n",
    "        'release': platform.release(),\n",
    "        'version': platform.version(),\n",
    "        'architecture': platform.machine(),\n",
    "        'processor': platform.processor(),\n",
    "        'python_version': platform.python_version()\n",
    "    }\n",
    "\n",
    "    return machine_info\n",
    "\n",
    "def generate_sha256_hash(*objects):\n",
    "    \"\"\"\n",
    "    Generate a unique SHA256 hash for a series of objects.\n",
    "\n",
    "    Parameters:\n",
    "    - objects: Variable number of objects to generate the hash from.\n",
    "\n",
    "    Returns:\n",
    "    - str: The unique SHA256 hash.\n",
    "    \"\"\"\n",
    "    data = ''.join(str(obj) for obj in objects)\n",
    "    sha256_hash = sha256(data.encode()).hexdigest()\n",
    "    \n",
    "    return sha256_hash\n",
    "\n",
    "def generate_deterministic_uuid(input: str) -> UUID:\n",
    "    \"\"\"\n",
    "    Generate a deterministic UUID from a string.\n",
    "\n",
    "    Parameters:\n",
    "    - input (str): The string to generate the UUID from.\n",
    "\n",
    "    Returns:\n",
    "    - UUID: The generated UUID.\n",
    "    \"\"\"\n",
    "    return uuid5(UUID('6ba7b810-9dad-11d1-80b4-00c04fd430c8'), input)\n",
    "\n",
    "def get_name_of_git_project(input_string: str):\n",
    "    \"\"\"\n",
    "    Get the name of a git project\n",
    "\n",
    "    Parameters:\n",
    "    repo_url (str): URL of the Git repository.\n",
    "    \"\"\"\n",
    "    # Regular expression pattern\n",
    "    pattern = r'[^/]*$'\n",
    "\n",
    "    # Use re.search to find the last substring after the last backslash\n",
    "    match = re.search(pattern, input_string)\n",
    "\n",
    "    # Extract the matched substring\n",
    "    if match:\n",
    "        last_substring = match.group(0)\n",
    "        return(last_substring[:-4]) # remove '.git'\n",
    "    else:\n",
    "        return False\n",
    "\n",
    "def create_postgres_url(username:str, password:str, host:str, port:int, dbname:str, sslmode='prefer', sslrootcert=None):\n",
    "    \"\"\"\n",
    "    Create a PostgreSQL connection URL.\n",
    "\n",
    "    Parameters:\n",
    "    username (str): Username for the PostgreSQL database.\n",
    "    password (str): Password for the PostgreSQL database.\n",
    "    host (str): Host address of the PostgreSQL server.\n",
    "    port (int): Port number for the PostgreSQL server.\n",
    "    dbname (str): Name of the database to connect to.\n",
    "    sslmode (str): SSL mode for the connection. Defaults to 'prefer'.\n",
    "    sslrootcert (str, optional): Path to the SSL root certificate file.\n",
    "\n",
    "    Returns:\n",
    "    str: PostgreSQL connection URL.\n",
    "    \"\"\"\n",
    "    url = f\"postgresql://{username}:{password}@{host}:{port}/{dbname}?sslmode={sslmode}\"\n",
    "    if sslrootcert:\n",
    "        url += f\"&sslrootcert={sslrootcert}\"\n",
    "    return url"
   ]
  },
  {
   "cell_type": "code",
   "execution_count": 3,
   "metadata": {},
   "outputs": [],
   "source": [
    "def get_table_name(class_name):\n",
    "    \"\"\"\n",
    "    Get the name of the table corresponding to a data model.\n",
    "\n",
    "    Parameters:\n",
    "    class_name (str): Name of the data model class.\n",
    "\n",
    "    Returns:\n",
    "    str: Name of the table in the database.\n",
    "    \"\"\"\n",
    "\n",
    "    return '_'.join([s.lower() for s in re.findall('[A-Z][a-z]*', class_name)])"
   ]
  },
  {
   "cell_type": "code",
   "execution_count": 5,
   "metadata": {},
   "outputs": [
    {
     "data": {
      "text/plain": [
       "UUID('da2b2abe-7d7b-586f-835f-aa723e8a5049')"
      ]
     },
     "execution_count": 5,
     "metadata": {},
     "output_type": "execute_result"
    }
   ],
   "source": [
    "generate_deterministic_uuid('fimio')"
   ]
  },
  {
   "cell_type": "code",
   "execution_count": 6,
   "metadata": {},
   "outputs": [
    {
     "data": {
      "text/plain": [
       "{'system': 'Darwin',\n",
       " 'release': '23.3.0',\n",
       " 'version': 'Darwin Kernel Version 23.3.0: Wed Dec 20 21:28:58 PST 2023; root:xnu-10002.81.5~7/RELEASE_X86_64',\n",
       " 'architecture': 'x86_64',\n",
       " 'processor': 'i386',\n",
       " 'python_version': '3.10.13'}"
      ]
     },
     "execution_count": 6,
     "metadata": {},
     "output_type": "execute_result"
    }
   ],
   "source": [
    "get_machine_info()"
   ]
  },
  {
   "cell_type": "code",
   "execution_count": 8,
   "metadata": {},
   "outputs": [],
   "source": [
    "class DataTransformer:\n",
    "    def __init__(self, data: list):\n",
    "        self.data = data\n",
    "\n",
    "    def multiply(self, factor: int):\n",
    "        # Perform data transformation operations here\n",
    "        transformed_data = self.data  # Placeholder transformation\n",
    "\n",
    "        return [item * factor for item in transformed_data]\n",
    "    \n",
    "    def divide(self, value: int):\n",
    "        # Perform data transformation operations here\n",
    "        transformed_data = self.data\n",
    "        return [item / value for item in transformed_data]"
   ]
  },
  {
   "cell_type": "code",
   "execution_count": 10,
   "metadata": {},
   "outputs": [
    {
     "data": {
      "text/plain": [
       "[0.3333333333333333,\n",
       " 0.6666666666666666,\n",
       " 1.0,\n",
       " 1.3333333333333333,\n",
       " 1.6666666666666667,\n",
       " 2.0,\n",
       " 2.3333333333333335,\n",
       " 2.6666666666666665,\n",
       " 3.0,\n",
       " 3.3333333333333335]"
      ]
     },
     "execution_count": 10,
     "metadata": {},
     "output_type": "execute_result"
    }
   ],
   "source": [
    "DataTransformer(list(range(1,11))).divide(3)"
   ]
  }
 ],
 "metadata": {
  "kernelspec": {
   "display_name": ".venv",
   "language": "python",
   "name": "python3"
  },
  "language_info": {
   "codemirror_mode": {
    "name": "ipython",
    "version": 3
   },
   "file_extension": ".py",
   "mimetype": "text/x-python",
   "name": "python",
   "nbconvert_exporter": "python",
   "pygments_lexer": "ipython3",
   "version": "3.10.13"
  }
 },
 "nbformat": 4,
 "nbformat_minor": 2
}
